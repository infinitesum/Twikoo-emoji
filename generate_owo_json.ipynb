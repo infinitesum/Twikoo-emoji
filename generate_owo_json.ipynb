{
 "cells": [
  {
   "cell_type": "code",
   "execution_count": 1,
   "metadata": {},
   "outputs": [],
   "source": [
    "import os\n",
    "import json\n",
    "import pathlib\n"
   ]
  },
  {
   "cell_type": "code",
   "execution_count": 7,
   "metadata": {},
   "outputs": [],
   "source": [
    "import os\n",
    "import json\n",
    "import pathlib\n",
    "from datetime import datetime\n",
    "from dataclasses import dataclass\n",
    "from typing import Literal\n",
    "\n",
    "@dataclass\n",
    "class EmojiConfig:\n",
    "    folder_path: str\n",
    "    json_file: str\n",
    "    sort_by: Literal[\"time\", \"name\"] = \"time\"\n",
    "    prepend: bool = False\n",
    "    cdn_prefix: str = \"https://cdn.jsdelivr.net/gh/infinitesum/Twikoo-emoji@master/Blob/\"\n",
    "\n",
    "def sort_entries(entries: list, sort_by: str) -> list:\n",
    "    if sort_by == \"time\":\n",
    "        # Sort by modification time (newest first)\n",
    "        entries.sort(key=lambda x: x['_mtime'], reverse=True)\n",
    "    else:\n",
    "        # Sort by filename\n",
    "        entries.sort(key=lambda x: x['text'])\n",
    "    return entries\n",
    "\n",
    "def update_blobcat_json(config: EmojiConfig):\n",
    "    default_data = {\n",
    "        config.folder_path.split('/')[-1]: {\n",
    "            \"type\": \"image\",\n",
    "            \"container\": []\n",
    "        }\n",
    "    }\n",
    "    \n",
    "    # Load JSON\n",
    "    if not os.path.exists(config.json_file):\n",
    "        data = default_data\n",
    "    else:\n",
    "        try:\n",
    "            with open(config.json_file, 'r') as f:\n",
    "                data = json.load(f)\n",
    "                if config.folder_path.split('/')[-1] not in data or 'container' not in data[config.folder_path.split('/')[-1]]:\n",
    "                    data = default_data\n",
    "        except json.JSONDecodeError:\n",
    "            data = default_data\n",
    "    \n",
    "    existing_emojis = {item['text'] for item in data[config.folder_path.split('/')[-1]]['container'] \n",
    "                      if isinstance(item, dict) and 'text' in item}\n",
    "    \n",
    "    # Get files\n",
    "    new_entries = []\n",
    "    if os.path.exists(config.folder_path):\n",
    "        image_files = []\n",
    "        for pattern in ['*.png', '*.gif', '*.jpg', '*.jpeg', '*.webp']:\n",
    "            image_files.extend(list(pathlib.Path(config.folder_path).glob(pattern)))\n",
    "            image_files.extend(list(pathlib.Path(config.folder_path).glob(pattern.upper())))\n",
    "        \n",
    "        for file in image_files:\n",
    "            name = file.stem.lower()\n",
    "            if 'blobcat' in name:\n",
    "                name = name.replace('blobcat', '').replace('ablob', '')\n",
    "                \n",
    "            if name not in existing_emojis:\n",
    "                entry = {\n",
    "                    \"text\": name,\n",
    "                    \"icon\": f\"<img src='{config.cdn_prefix}{file.name}'>\",\n",
    "                    \"_mtime\": os.path.getmtime(file)\n",
    "                }\n",
    "                new_entries.append(entry)\n",
    "        \n",
    "        if new_entries:\n",
    "            # Sort entries\n",
    "            new_entries = sort_entries(new_entries, config.sort_by)\n",
    "            # Remove temporary _mtime field\n",
    "            for entry in new_entries:\n",
    "                del entry['_mtime']\n",
    "                \n",
    "            if config.prepend:\n",
    "                data[config.folder_path.split('/')[-1]]['container'] = new_entries + data[config.folder_path.split('/')[-1]]['container']\n",
    "                position = \"beginning\"\n",
    "            else:\n",
    "                data[config.folder_path.split('/')[-1]]['container'].extend(new_entries)\n",
    "                position = \"end\"\n",
    "            \n",
    "            with open(config.json_file, 'w') as f:\n",
    "                json.dump(data, f, indent=4)\n",
    "            print(f\"Added {len(new_entries)} new emojis at the {position} (sorted by {config.sort_by})\")\n",
    "        else:\n",
    "            print(\"No new emojis found\")\n",
    "    else:\n",
    "        print(f\"Folder {config.folder_path} not found\")\n",
    "\n",
    "\n",
    "\n"
   ]
  },
  {
   "cell_type": "code",
   "execution_count": 8,
   "metadata": {},
   "outputs": [],
   "source": [
    "# Usage examples\n",
    "config = EmojiConfig(\n",
    "    folder_path=\"./nobeko\",\n",
    "    json_file=\"nobeko.json\",\n",
    "    sort_by=\"time\",  # \"time\" or \"name\", default: recent first\n",
    "    prepend=True,    # True: add to beginning, False: add to end\n",
    "    cdn_prefix=\"https://cdn.jsdelivr.net/gh/infinitesum/Twikoo-emoji@master/nobeko/\"  # Custom CDN prefix\n",
    ")"
   ]
  },
  {
   "cell_type": "code",
   "execution_count": 9,
   "metadata": {},
   "outputs": [
    {
     "name": "stdout",
     "output_type": "stream",
     "text": [
      "Added 44 new emojis at the beginning (sorted by time)\n"
     ]
    }
   ],
   "source": [
    "update_blobcat_json(config)"
   ]
  }
 ],
 "metadata": {
  "kernelspec": {
   "display_name": "Python 3",
   "language": "python",
   "name": "python3"
  },
  "language_info": {
   "codemirror_mode": {
    "name": "ipython",
    "version": 3
   },
   "file_extension": ".py",
   "mimetype": "text/x-python",
   "name": "python",
   "nbconvert_exporter": "python",
   "pygments_lexer": "ipython3",
   "version": "3.12.3"
  }
 },
 "nbformat": 4,
 "nbformat_minor": 2
}
